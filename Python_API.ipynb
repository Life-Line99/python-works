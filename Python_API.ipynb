{
  "nbformat": 4,
  "nbformat_minor": 0,
  "metadata": {
    "kernelspec": {
      "display_name": "Python 3",
      "language": "python",
      "name": "python3"
    },
    "language_info": {
      "codemirror_mode": {
        "name": "ipython",
        "version": 3
      },
      "file_extension": ".py",
      "mimetype": "text/x-python",
      "name": "python",
      "nbconvert_exporter": "python",
      "pygments_lexer": "ipython3",
      "version": "3.7.3"
    },
    "colab": {
      "name": "Python_API_Exercise2.ipynb",
      "provenance": [],
      "include_colab_link": true
    }
  },
  "cells": [
    {
      "cell_type": "markdown",
      "metadata": {
        "id": "view-in-github",
        "colab_type": "text"
      },
      "source": [
        "<a href=\"https://colab.research.google.com/github/Life-Line99/python-works/blob/master/Python_API_Exercise2.ipynb\" target=\"_parent\"><img src=\"https://colab.research.google.com/assets/colab-badge.svg\" alt=\"Open In Colab\"/></a>"
      ]
    },
    {
      "cell_type": "code",
      "metadata": {
        "id": "vMEUAAftFszG",
        "colab_type": "code",
        "colab": {}
      },
      "source": [
        "\n",
        "import pandas as pd\n",
        "import requests\n",
        "import json"
      ],
      "execution_count": 0,
      "outputs": []
    },
    {
      "cell_type": "code",
      "metadata": {
        "id": "iZMVRHpXFszb",
        "colab_type": "code",
        "outputId": "6e5b956d-f44f-4fee-cd83-4bb3e9e6ddb9",
        "colab": {}
      },
      "source": [
        "# load data and preview\n",
        "data_Url = 'https://s3.amazonaws.com/vargo.aprd6342/data/msas.csv'\n",
        "df =pd.read_csv(data_Url)\n",
        "df.head(10)"
      ],
      "execution_count": 0,
      "outputs": [
        {
          "output_type": "execute_result",
          "data": {
            "text/html": [
              "<div>\n",
              "<style scoped>\n",
              "    .dataframe tbody tr th:only-of-type {\n",
              "        vertical-align: middle;\n",
              "    }\n",
              "\n",
              "    .dataframe tbody tr th {\n",
              "        vertical-align: top;\n",
              "    }\n",
              "\n",
              "    .dataframe thead th {\n",
              "        text-align: right;\n",
              "    }\n",
              "</style>\n",
              "<table border=\"1\" class=\"dataframe\">\n",
              "  <thead>\n",
              "    <tr style=\"text-align: right;\">\n",
              "      <th></th>\n",
              "      <th>CBSA</th>\n",
              "      <th>NAME</th>\n",
              "      <th>POPESTIMATE2017</th>\n",
              "    </tr>\n",
              "  </thead>\n",
              "  <tbody>\n",
              "    <tr>\n",
              "      <th>0</th>\n",
              "      <td>10180</td>\n",
              "      <td>Abilene, TX</td>\n",
              "      <td>170219</td>\n",
              "    </tr>\n",
              "    <tr>\n",
              "      <th>1</th>\n",
              "      <td>10420</td>\n",
              "      <td>Akron, OH</td>\n",
              "      <td>703505</td>\n",
              "    </tr>\n",
              "    <tr>\n",
              "      <th>2</th>\n",
              "      <td>10500</td>\n",
              "      <td>Albany, GA</td>\n",
              "      <td>151434</td>\n",
              "    </tr>\n",
              "    <tr>\n",
              "      <th>3</th>\n",
              "      <td>10540</td>\n",
              "      <td>Albany, OR</td>\n",
              "      <td>125047</td>\n",
              "    </tr>\n",
              "    <tr>\n",
              "      <th>4</th>\n",
              "      <td>10580</td>\n",
              "      <td>Albany-Schenectady-Troy, NY</td>\n",
              "      <td>886188</td>\n",
              "    </tr>\n",
              "    <tr>\n",
              "      <th>5</th>\n",
              "      <td>10740</td>\n",
              "      <td>Albuquerque, NM</td>\n",
              "      <td>910726</td>\n",
              "    </tr>\n",
              "    <tr>\n",
              "      <th>6</th>\n",
              "      <td>10780</td>\n",
              "      <td>Alexandria, LA</td>\n",
              "      <td>153984</td>\n",
              "    </tr>\n",
              "    <tr>\n",
              "      <th>7</th>\n",
              "      <td>10900</td>\n",
              "      <td>Allentown-Bethlehem-Easton, PA-NJ</td>\n",
              "      <td>840550</td>\n",
              "    </tr>\n",
              "    <tr>\n",
              "      <th>8</th>\n",
              "      <td>11020</td>\n",
              "      <td>Altoona, PA</td>\n",
              "      <td>123457</td>\n",
              "    </tr>\n",
              "    <tr>\n",
              "      <th>9</th>\n",
              "      <td>11100</td>\n",
              "      <td>Amarillo, TX</td>\n",
              "      <td>264925</td>\n",
              "    </tr>\n",
              "  </tbody>\n",
              "</table>\n",
              "</div>"
            ],
            "text/plain": [
              "    CBSA                               NAME  POPESTIMATE2017\n",
              "0  10180                        Abilene, TX           170219\n",
              "1  10420                          Akron, OH           703505\n",
              "2  10500                         Albany, GA           151434\n",
              "3  10540                         Albany, OR           125047\n",
              "4  10580        Albany-Schenectady-Troy, NY           886188\n",
              "5  10740                    Albuquerque, NM           910726\n",
              "6  10780                     Alexandria, LA           153984\n",
              "7  10900  Allentown-Bethlehem-Easton, PA-NJ           840550\n",
              "8  11020                        Altoona, PA           123457\n",
              "9  11100                       Amarillo, TX           264925"
            ]
          },
          "metadata": {
            "tags": []
          },
          "execution_count": 54
        }
      ]
    },
    {
      "cell_type": "code",
      "metadata": {
        "id": "JkMrxBU-Fszu",
        "colab_type": "code",
        "colab": {}
      },
      "source": [
        "tableids = ['B19001', 'B01001', 'B03002']\n",
        "tableidsstring = \",\".join(tableids)\n",
        "\n",
        "geoid = '31000US' + df['CBSA'].astype(str)\n",
        "df['geoid'] = geoid"
      ],
      "execution_count": 0,
      "outputs": []
    },
    {
      "cell_type": "code",
      "metadata": {
        "id": "jKBTAFA1Fsz8",
        "colab_type": "code",
        "colab": {}
      },
      "source": [
        "# first half\n",
        "geoidstring_part1 = \",\".join(geoid[:int(len(geoid)/2)])\n",
        "url1 = 'http://api.censusreporter.org/1.0/data/show/latest?table_ids=%s&geo_ids=%s' % (tableidsstring, geoidstring_part1)\n",
        "loadedjson1 = requests.get(url1)\n",
        "parsedjson1 = json.loads(loadedjson1.text)\n",
        "\n",
        "# second half\n",
        "geoidstring_part2 = \",\".join(geoid[int(len(geoid)/2):])\n",
        "url2 = 'http://api.censusreporter.org/1.0/data/show/latest?table_ids=%s&geo_ids=%s' % (tableidsstring, geoidstring_part2)\n",
        "loadedjson2 = requests.get(url2)\n",
        "parsedjson2 = json.loads(loadedjson2.text)\n",
        "\n",
        "# combine two json together\n",
        "Everything = dict(parsedjson1['data'], **parsedjson2['data'])"
      ],
      "execution_count": 0,
      "outputs": []
    },
    {
      "cell_type": "code",
      "metadata": {
        "id": "1tMSYsM1Fs0N",
        "colab_type": "code",
        "outputId": "eeaf72b6-43b4-492a-f9d6-ca35247f40ca",
        "colab": {}
      },
      "source": [
        "Everything['31000US10180']['B03002']['estimate']\n"
      ],
      "execution_count": 0,
      "outputs": [
        {
          "output_type": "execute_result",
          "data": {
            "text/plain": [
              "{'B03002001': 174006.0,\n",
              " 'B03002002': 133580.0,\n",
              " 'B03002003': 110633.0,\n",
              " 'B03002004': 13466.0,\n",
              " 'B03002005': 648.0,\n",
              " 'B03002006': 3491.0,\n",
              " 'B03002007': 0.0,\n",
              " 'B03002008': 578.0,\n",
              " 'B03002009': 4764.0,\n",
              " 'B03002010': 706.0,\n",
              " 'B03002011': 4058.0,\n",
              " 'B03002012': 40426.0,\n",
              " 'B03002013': 21001.0,\n",
              " 'B03002014': 1075.0,\n",
              " 'B03002015': 0.0,\n",
              " 'B03002016': 461.0,\n",
              " 'B03002017': 27.0,\n",
              " 'B03002018': 16003.0,\n",
              " 'B03002019': 1859.0,\n",
              " 'B03002020': 871.0,\n",
              " 'B03002021': 988.0}"
            ]
          },
          "metadata": {
            "tags": []
          },
          "execution_count": 57
        }
      ]
    },
    {
      "cell_type": "code",
      "metadata": {
        "id": "JHCfjlc4Fs0Y",
        "colab_type": "code",
        "colab": {}
      },
      "source": [
        "HH_Income = []\n",
        "Pop_by_age = []\n",
        "Pop_by_Hispanic = []\n",
        "for i, row in df.iterrows():\n",
        "    Income = Everything[df['geoid'][i]]['B19001']['estimate']['B19001011']\n",
        "    + Everything[df['geoid'][i]]['B19001']['estimate']['B19001012'] \n",
        "    HH_Income.append(Income)\n",
        "    Pop = Everything[df['geoid'][i]]['B01001']['estimate']['B01001007']\n",
        "    + Everything[df['geoid'][i]]['B01001']['estimate']['B01001008']\n",
        "    + Everything[df['geoid'][i]]['B01001']['estimate']['B01001009']\n",
        "    + Everything[df['geoid'][i]]['B01001']['estimate']['B01001010']\n",
        "    + Everything[df['geoid'][i]]['B01001']['estimate']['B01001011']\n",
        "    + Everything[df['geoid'][i]]['B01001']['estimate']['B01001012']\n",
        "    + Everything[df['geoid'][i]]['B01001']['estimate']['B01001031']\n",
        "    + Everything[df['geoid'][i]]['B01001']['estimate']['B01001032']\n",
        "    + Everything[df['geoid'][i]]['B01001']['estimate']['B01001033']\n",
        "    + Everything[df['geoid'][i]]['B01001']['estimate']['B01001034']\n",
        "    + Everything[df['geoid'][i]]['B01001']['estimate']['B01001035']\n",
        "    + Everything[df['geoid'][i]]['B01001']['estimate']['B01001036']\n",
        "    Pop_by_age.append(Pop)\n",
        "    Hispanic = Everything[df['geoid'][i]]['B03002']['estimate']['B03002012']\n",
        "    Pop_by_Hispanic.append(Hispanic)\n",
        "\n",
        "df['Pop_by_Income'] = HH_Income\n",
        "df['Pop_by_Age'] = Pop_by_age\n",
        "df['Pop_by_Hispanic'] = Pop_by_Hispanic\n"
      ],
      "execution_count": 0,
      "outputs": []
    },
    {
      "cell_type": "code",
      "metadata": {
        "id": "aqxe1SxUFs06",
        "colab_type": "code",
        "outputId": "eb98373a-a1b5-4f14-8923-3bdf35908fae",
        "colab": {}
      },
      "source": [
        "##1.What city has the highest count of the audience you chose for parameter? \n",
        "print(df.loc[df['Pop_by_Income'] == max(df['Pop_by_Income'])]['NAME'])\n"
      ],
      "execution_count": 0,
      "outputs": [
        {
          "output_type": "stream",
          "text": [
            "249    New York-Newark-Jersey City, NY-NJ-PA\n",
            "Name: NAME, dtype: object\n"
          ],
          "name": "stdout"
        }
      ]
    },
    {
      "cell_type": "markdown",
      "metadata": {
        "id": "UEyH9udxFs1G",
        "colab_type": "text"
      },
      "source": [
        "Going after Organic consumers, we should target audience in lower and mid-level range.\n",
        "Those audience should earn between 50k to $74.9K as parameter 1.\n",
        "Therefore, New York-Newark-Jersey City, NY-NJ-PA has the highest count of the audience when regarding our criteria."
      ]
    },
    {
      "cell_type": "code",
      "metadata": {
        "id": "buc7TqevFs1N",
        "colab_type": "code",
        "outputId": "8cee091e-e4db-4466-be54-3af6e4969408",
        "colab": {}
      },
      "source": [
        "##2.What city has the highest count of the audience you chose for parameter? \n",
        "print(df.loc[df['Pop_by_Age'] == max(df['Pop_by_Age'])]['NAME'])"
      ],
      "execution_count": 0,
      "outputs": [
        {
          "output_type": "stream",
          "text": [
            "249    New York-Newark-Jersey City, NY-NJ-PA\n",
            "Name: NAME, dtype: object\n"
          ],
          "name": "stdout"
        }
      ]
    },
    {
      "cell_type": "markdown",
      "metadata": {
        "id": "y-rgtVq5Fs1X",
        "colab_type": "text"
      },
      "source": [
        "Going after Organic consumers, for parameter 2, I chose ages 18-34 from the cities of New York-Newark-Jersey City, NY-NJ-PA\n",
        "which have the highest count of those audience."
      ]
    },
    {
      "cell_type": "code",
      "metadata": {
        "scrolled": true,
        "id": "QL2LP9iJFs1a",
        "colab_type": "code",
        "outputId": "87aa7074-3135-46e3-da64-ecd72e56d5f4",
        "colab": {}
      },
      "source": [
        "\n",
        "## 3.What city has the highest count of the audience you chose for parameter? \n",
        "print(df.loc[df['Pop_by_Hispanic'] == max(df['Pop_by_Hispanic'])]['NAME'])\n"
      ],
      "execution_count": 0,
      "outputs": [
        {
          "output_type": "stream",
          "text": [
            "210    Los Angeles-Long Beach-Anaheim, CA\n",
            "Name: NAME, dtype: object\n"
          ],
          "name": "stdout"
        }
      ]
    },
    {
      "cell_type": "markdown",
      "metadata": {
        "id": "IBbJlrwhFs1j",
        "colab_type": "text"
      },
      "source": [
        "Going after Organic consumers, for parameter 3,  I chose Hispanic and those cities are Los Angeles-Long Beach-Anaheim, \n",
        "CA which have the highest count of those audience."
      ]
    },
    {
      "cell_type": "code",
      "metadata": {
        "scrolled": true,
        "id": "0uhLkvwNFs1m",
        "colab_type": "code",
        "outputId": "a67f91d0-d608-44df-e9af-a65894ea0d1c",
        "colab": {}
      },
      "source": [
        "HH_Income_Percentage = []\n",
        "Pop_by_age_Percentage = []\n",
        "Pop_by_Hispanic_Percentage = []\n",
        "for i, row in df.iterrows():\n",
        "    Percentage_Income = df['Pop_by_Income'][i]/max(df['Pop_by_Income'])\n",
        "    Percentage_Age = df['Pop_by_Age'][i]/max(df['Pop_by_Age'])\n",
        "    Percentage_Hispanic = df['Pop_by_Hispanic'][i]/max(df['Pop_by_Hispanic'])\n",
        "    HH_Income_Percentage.append(Percentage_Income)\n",
        "    Pop_by_age_Percentage.append(Percentage_Age)\n",
        "    Pop_by_Hispanic_Percentage.append(Percentage_Hispanic)\n",
        "\n",
        "df['HH_Income_Percentage'] = HH_Income_Percentage\n",
        "df['Pop_by_age_Percentage'] = Pop_by_age_Percentage\n",
        "df['Pop_by_Hispanic_Percentage'] = Pop_by_Hispanic_Percentage\n",
        "\n",
        "mean_percentage_score = []\n",
        "for i, row in df.iterrows():\n",
        "    Mean = (df['HH_Income_Percentage'][i] + df['Pop_by_age_Percentage'][i]+ df['Pop_by_Hispanic_Percentage'][i])/3\n",
        "    mean_percentage_score.append(Mean)\n",
        "df['mean_percentage_score'] = mean_percentage_score\n",
        "\n",
        "## 4.What city has the highest mean percentage across all three categories? \n",
        "print(df.loc[df['mean_percentage_score'] == max(df['mean_percentage_score'])]['NAME'])"
      ],
      "execution_count": 0,
      "outputs": [
        {
          "output_type": "stream",
          "text": [
            "249    New York-Newark-Jersey City, NY-NJ-PA\n",
            "Name: NAME, dtype: object\n"
          ],
          "name": "stdout"
        }
      ]
    },
    {
      "cell_type": "markdown",
      "metadata": {
        "id": "h-1ZjbgNFs2h",
        "colab_type": "text"
      },
      "source": [
        " New York-Newark-Jersey City, NY-NJ-PA has the highest mean percentage across all three categories"
      ]
    },
    {
      "cell_type": "code",
      "metadata": {
        "id": "LqoAATezFs2l",
        "colab_type": "code",
        "colab": {}
      },
      "source": [
        ""
      ],
      "execution_count": 0,
      "outputs": []
    }
  ]
}
